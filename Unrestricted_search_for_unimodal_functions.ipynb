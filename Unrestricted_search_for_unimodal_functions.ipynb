{
  "nbformat": 4,
  "nbformat_minor": 0,
  "metadata": {
    "colab": {
      "provenance": [],
      "authorship_tag": "ABX9TyOoVLDa1WJ+M/y9t/1Psl0Z",
      "include_colab_link": true
    },
    "kernelspec": {
      "name": "python3",
      "display_name": "Python 3"
    },
    "language_info": {
      "name": "python"
    }
  },
  "cells": [
    {
      "cell_type": "markdown",
      "metadata": {
        "id": "view-in-github",
        "colab_type": "text"
      },
      "source": [
        "<a href=\"https://colab.research.google.com/github/grishma5472/CH5150-Optimization-Techniques-1/blob/main/Unrestricted_search_for_unimodal_functions.ipynb\" target=\"_parent\"><img src=\"https://colab.research.google.com/assets/colab-badge.svg\" alt=\"Open In Colab\"/></a>"
      ]
    },
    {
      "cell_type": "markdown",
      "source": [
        "**FIXED STEP SIZE**"
      ],
      "metadata": {
        "id": "CRvb4V20kZXY"
      }
    },
    {
      "cell_type": "code",
      "source": [
        "def fixedStep(f,x1, step_size,max_iter=1000, tol=1e-6):\n",
        "  f1=f(x1)\n",
        "  x2=x1+step_size\n",
        "  f2=f(x2)\n",
        "  if f2<f1:\n",
        "    i=2\n",
        "    while f2<f1 and i<max_iter:\n",
        "      x1=x2\n",
        "      f1=f2\n",
        "      x2=x1+step_size\n",
        "      f2=f(x2)\n",
        "      i=i+1\n",
        "    return x1\n",
        "\n",
        "  elif f2>f1:\n",
        "    x2=x1-step_size\n",
        "    f2=f(x2)\n",
        "    if f2<f1:\n",
        "      i=2\n",
        "      while f2<f1 and i<max_iter:\n",
        "        x1=x2\n",
        "        f1=f2\n",
        "        x2=x1-step_size\n",
        "        f2=f(x2)\n",
        "        i=i+1\n",
        "      return x1\n",
        "    else:\n",
        "      print(\"The minimum is between x1 - step_size(x-2) and x1 + step_size(x2)\")\n",
        "      return x1\n",
        "  elif abs(f2-f1)<tol:\n",
        "    print(\"Tolerance level reached\")\n",
        "    return x1 if f1<f2 else x2\n",
        "  else:\n",
        "    return x1 #when f1==f2"
      ],
      "metadata": {
        "id": "ksAU7J7Xkl_k"
      },
      "execution_count": 56,
      "outputs": []
    },
    {
      "cell_type": "code",
      "source": [
        "def f(x):\n",
        "  return (x)**2+2"
      ],
      "metadata": {
        "id": "Ej_uADbFvhxQ"
      },
      "execution_count": 57,
      "outputs": []
    },
    {
      "cell_type": "code",
      "source": [
        "ans=fixedStep(f,8,0.1)\n",
        "print(\"Estimated x at which minima occurs:\", ans)"
      ],
      "metadata": {
        "colab": {
          "base_uri": "https://localhost:8080/"
        },
        "id": "hLnjoAHgyNVg",
        "outputId": "270b0654-f183-43fb-8323-f4f5cd1dfcd2"
      },
      "execution_count": 58,
      "outputs": [
        {
          "output_type": "stream",
          "name": "stdout",
          "text": [
            "Estimated x at which minima occurs: 1.1685097334179773e-14\n"
          ]
        }
      ]
    },
    {
      "cell_type": "markdown",
      "source": [
        "**ACCELERATED STEP SIZE**"
      ],
      "metadata": {
        "id": "aaSwpl75zmyj"
      }
    },
    {
      "cell_type": "code",
      "source": [
        "def acceleratedStep(f,x1, step_size,max_iter=1000, tol=1e-6):\n",
        "  f1=f(x1)\n",
        "  x2=x1+step_size\n",
        "  f2=f(x2)\n",
        "  if f2<f1:\n",
        "    i=2\n",
        "    while f2<f1 and i<max_iter:\n",
        "      x1=x2\n",
        "      f1=f2\n",
        "      #here step size can be doubled too\n",
        "      x2=x1+step_size\n",
        "      f2=f(x2)\n",
        "      i=i+1\n",
        "    return x1\n",
        "\n",
        "  elif f2>f1:\n",
        "    x2=x1-step_size\n",
        "    f2=f(x2)\n",
        "    if f2<f1:\n",
        "      i=2\n",
        "      while f2<f1 and i<max_iter:\n",
        "        x1=x2\n",
        "        f1=f2 #here step size can be doubled too\n",
        "        x2=x1-step_size\n",
        "        f2=f(x2)\n",
        "        i=i+1\n",
        "      return x1\n",
        "    else:\n",
        "      step_size=step_size/10\n",
        "      acceleratedStep(f,x1,step_size)\n",
        "  elif abs(f2-f1)<tol:\n",
        "    print(\"Tolerance level reached\")\n",
        "    return x1 if f1<f2 else x2\n",
        "  else:\n",
        "    step_size=step_size/10\n",
        "    acceleratedStep(f,x1,step_size) #when f1==f2"
      ],
      "metadata": {
        "id": "S7ye3BzIzvPb"
      },
      "execution_count": 59,
      "outputs": []
    },
    {
      "cell_type": "code",
      "source": [
        "def f(x):\n",
        "  return x*(x-1.5)"
      ],
      "metadata": {
        "id": "gXNcEMQ3_qEo"
      },
      "execution_count": 60,
      "outputs": []
    },
    {
      "cell_type": "code",
      "source": [
        "ans=acceleratedStep(f,0,0.05)\n",
        "print(\"Estimated x at which minima occurs:\", ans)"
      ],
      "metadata": {
        "id": "kH0qbGHSGCs-",
        "outputId": "ea683608-64b2-4fc9-81ce-44297a3bfead",
        "colab": {
          "base_uri": "https://localhost:8080/"
        }
      },
      "execution_count": 61,
      "outputs": [
        {
          "output_type": "stream",
          "name": "stdout",
          "text": [
            "Estimated x at which minima occurs: 0.7500000000000001\n"
          ]
        }
      ]
    }
  ]
}