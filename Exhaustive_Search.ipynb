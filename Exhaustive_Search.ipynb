{
  "nbformat": 4,
  "nbformat_minor": 0,
  "metadata": {
    "colab": {
      "provenance": [],
      "authorship_tag": "ABX9TyNLVCjSXPGm328ymZBa1e4D",
      "include_colab_link": true
    },
    "kernelspec": {
      "name": "python3",
      "display_name": "Python 3"
    },
    "language_info": {
      "name": "python"
    }
  },
  "cells": [
    {
      "cell_type": "markdown",
      "metadata": {
        "id": "view-in-github",
        "colab_type": "text"
      },
      "source": [
        "<a href=\"https://colab.research.google.com/github/grishma5472/CH5150-Optimization-Techniques-1/blob/main/Exhaustive_Search.ipynb\" target=\"_parent\"><img src=\"https://colab.research.google.com/assets/colab-badge.svg\" alt=\"Open In Colab\"/></a>"
      ]
    },
    {
      "cell_type": "markdown",
      "source": [
        "EXHAUSTIVE SEARCH FOR UNIMODAL FUNCTIONS"
      ],
      "metadata": {
        "id": "HFZwU8zEJvPM"
      }
    },
    {
      "cell_type": "code",
      "source": [
        "import numpy as np"
      ],
      "metadata": {
        "id": "O6TJ_nFUJ3VU"
      },
      "execution_count": 85,
      "outputs": []
    },
    {
      "cell_type": "code",
      "source": [
        "def exhaustive_search(f,xs,xf,n): #n can be evaluated based on error value accepted\n",
        "  points=np.linspace(xs,xf,n)\n",
        "  function_values=[f(x) for x in points]\n",
        "  mini=np.argmin(function_values)\n",
        "  if f(xs)<function_values[mini]:\n",
        "    return xs\n",
        "  elif f(xf)<function_values[mini]:\n",
        "    return xf\n",
        "  else:\n",
        "    if mini==0:\n",
        "      return points[0]\n",
        "    elif mini==n-1:\n",
        "      return points[n-1]\n",
        "    xjminus1=points[mini-1]\n",
        "    xjplus1=points[mini+1]\n",
        "    return points[mini] #or (xjplus1+xjminus1)/2"
      ],
      "metadata": {
        "id": "pUYpd5Vvp_Lr"
      },
      "execution_count": 86,
      "outputs": []
    },
    {
      "cell_type": "code",
      "source": [
        "def f(x):\n",
        "  return x**2+10*x+75"
      ],
      "metadata": {
        "id": "Pb6GD1TutbX1"
      },
      "execution_count": 87,
      "outputs": []
    },
    {
      "cell_type": "code",
      "source": [
        "error_accepted=0.01 #assuming midpoint of uncertainity interval to be optimum\n",
        "n=int((1/error_accepted)-1)\n",
        "x_min = exhaustive_search(f,-8,3,n)\n",
        "print(\"Estimated minimum point:\", x_min)"
      ],
      "metadata": {
        "colab": {
          "base_uri": "https://localhost:8080/"
        },
        "id": "5cdPzUNgtgru",
        "outputId": "356d5cab-2662-457d-8824-d3cf7cdbf72e"
      },
      "execution_count": 88,
      "outputs": [
        {
          "output_type": "stream",
          "name": "stdout",
          "text": [
            "Estimated minimum point: -4.969387755102041\n"
          ]
        }
      ]
    }
  ]
}